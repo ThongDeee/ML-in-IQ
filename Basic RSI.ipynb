{
 "metadata": {
  "language_info": {
   "codemirror_mode": {
    "name": "ipython",
    "version": 3
   },
   "file_extension": ".py",
   "mimetype": "text/x-python",
   "name": "python",
   "nbconvert_exporter": "python",
   "pygments_lexer": "ipython3",
   "version": "3.8.3-final"
  },
  "orig_nbformat": 2,
  "kernelspec": {
   "name": "python3",
   "display_name": "Python 3"
  }
 },
 "nbformat": 4,
 "nbformat_minor": 2,
 "cells": [
  {
   "cell_type": "code",
   "execution_count": 1,
   "metadata": {},
   "outputs": [
    {
     "output_type": "execute_result",
     "data": {
      "text/plain": [
       "(True, None)"
      ]
     },
     "metadata": {},
     "execution_count": 1
    }
   ],
   "source": [
    "from iqoptionapi.stable_api import IQ_Option\n",
    "from talib.abstract import *\n",
    "import numpy as np\n",
    "\n",
    "API = IQ_Option(\"demosaha2537@outlook.com\",\"shwchr15\")\n",
    "API.connect()"
   ]
  },
  {
   "cell_type": "code",
   "execution_count": 7,
   "metadata": {
    "tags": []
   },
   "outputs": [],
   "source": [
    "#get data\n",
    "data = API.edsg_get_over_candles(1,1000,\"EURUSD\",1)"
   ]
  },
  {
   "cell_type": "code",
   "execution_count": 8,
   "metadata": {},
   "outputs": [],
   "source": [
    "#get close data in Array\n",
    "ip = {\"close\":np.array([])}\n",
    "for i in data:\n",
    "   data_close = i[\"close\"]\n",
    "   ip[\"close\"]=np.append(ip[\"close\"],data_close)\n",
    "close = ip[\"close\"]"
   ]
  },
  {
   "cell_type": "code",
   "execution_count": 10,
   "metadata": {},
   "outputs": [
    {
     "output_type": "stream",
     "name": "stdout",
     "text": [
      "WIN : 150 timeperiod : 51\n"
     ]
    }
   ],
   "source": [
    "#\n",
    "timeperiod = 2\n",
    "while True:\n",
    "    data_rsi = RSI(close, timeperiod=timeperiod)\n",
    "\n",
    "    # count RSI\n",
    "    rs1 = 0\n",
    "    rs2 = 0\n",
    "    for i in data_rsi:\n",
    "        if i > 70:\n",
    "            rs1 = rs1 + 1\n",
    "        if i > 71:\n",
    "            rs2 = rs2 + 1\n",
    "    #win point  \n",
    "    if  rs1 > 10 and rs2 == 0:\n",
    "        break\n",
    "    elif timeperiod > 50:\n",
    "        break\n",
    "    else:\n",
    "        timeperiod = timeperiod + 1\n",
    "\n",
    "print(\"WIN :\",rs1,\"timeperiod :\",timeperiod)"
   ]
  },
  {
   "cell_type": "code",
   "execution_count": null,
   "metadata": {},
   "outputs": [],
   "source": []
  }
 ]
}